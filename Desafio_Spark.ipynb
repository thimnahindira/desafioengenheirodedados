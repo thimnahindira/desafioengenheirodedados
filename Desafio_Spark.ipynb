{
  "nbformat": 4,
  "nbformat_minor": 0,
  "metadata": {
    "colab": {
      "provenance": [],
      "include_colab_link": true
    },
    "kernelspec": {
      "name": "python3",
      "display_name": "Python 3"
    },
    "language_info": {
      "name": "python"
    }
  },
  "cells": [
    {
      "cell_type": "markdown",
      "metadata": {
        "id": "view-in-github",
        "colab_type": "text"
      },
      "source": [
        "<a href=\"https://colab.research.google.com/github/thimnahindira/desafioengenheirodedados/blob/main/Desafio_Spark.ipynb\" target=\"_parent\"><img src=\"https://colab.research.google.com/assets/colab-badge.svg\" alt=\"Open In Colab\"/></a>"
      ]
    },
    {
      "cell_type": "markdown",
      "source": [
        "# Desafio Spark Serasa\n",
        "O objetivo deste desafio é entender seu domínio na linguagem Python, sua capacidade de criar Pipelines de dados e extrair informações relavantes de dados.\n"
      ],
      "metadata": {
        "id": "6Un1868vQEmZ"
      }
    },
    {
      "cell_type": "markdown",
      "source": [
        "## Dados trabalhados"
      ],
      "metadata": {
        "id": "qjZDwgaHSmwT"
      }
    },
    {
      "cell_type": "markdown",
      "source": [
        "Este conjunto de dados foi generosamente fornecido pela maior loja de departamentos do mercado brasileiro. Depois que um cliente compra o produto, um vendedor é notificado para atender a esse pedido. Assim que o cliente recebe o produto, ou a data prevista de entrega está prevista, o cliente recebe um inquérito de satisfação por e-mail onde pode dar nota da experiência de compra e deixar alguns comentários. "
      ],
      "metadata": {
        "id": "XiDHP-LbS6FC"
      }
    },
    {
      "cell_type": "markdown",
      "source": [
        "### Atenção\n",
        "1.     Um pedido pode ter vários itens.\n",
        "2.     Cada item pode ser atendido por um vendedor distinto.\n",
        "3.     Todo o texto identificando lojas e parceiros foi substituído pelos nomes das grandes casas de Game of Thrones."
      ],
      "metadata": {
        "id": "EmKUNSz0S-iK"
      }
    },
    {
      "cell_type": "markdown",
      "source": [
        "### Esquema de dados"
      ],
      "metadata": {
        "id": "E4dXQPJaRWzY"
      }
    },
    {
      "cell_type": "markdown",
      "source": [
        "Os dados são divididos em vários conjuntos de dados para melhor compreensão e organização. Consulte o esquema de dados a seguir ao trabalhar com ele:\n",
        "\n",
        "![Data Schema](https://i.imgur.com/HRhd2Y0.png)"
      ],
      "metadata": {
        "id": "HXO6mQSGTF1W"
      }
    },
    {
      "cell_type": "markdown",
      "source": [
        "## Configuração do Spark"
      ],
      "metadata": {
        "id": "OvpkwGlBTNal"
      }
    },
    {
      "cell_type": "code",
      "execution_count": 1,
      "metadata": {
        "colab": {
          "base_uri": "https://localhost:8080/"
        },
        "id": "cDhMwusJQBTX",
        "outputId": "5a524dc9-3159-48d7-ca27-6cdbbff88e3e"
      },
      "outputs": [
        {
          "output_type": "stream",
          "name": "stdout",
          "text": [
            "tar: spark-3.3.1-bin-hadoop3.tgz: Cannot open: No such file or directory\n",
            "tar: Error is not recoverable: exiting now\n",
            "Looking in indexes: https://pypi.org/simple, https://us-python.pkg.dev/colab-wheels/public/simple/\n",
            "Collecting pyspark==3.3.1\n",
            "  Downloading pyspark-3.3.1.tar.gz (281.4 MB)\n",
            "\u001b[2K     \u001b[90m━━━━━━━━━━━━━━━━━━━━━━━━━━━━━━━━━━━━━━━\u001b[0m \u001b[32m281.4/281.4 MB\u001b[0m \u001b[31m5.3 MB/s\u001b[0m eta \u001b[36m0:00:00\u001b[0m\n",
            "\u001b[?25h  Preparing metadata (setup.py) ... \u001b[?25l\u001b[?25hdone\n",
            "Collecting py4j==0.10.9.5\n",
            "  Downloading py4j-0.10.9.5-py2.py3-none-any.whl (199 kB)\n",
            "\u001b[2K     \u001b[90m━━━━━━━━━━━━━━━━━━━━━━━━━━━━━━━━━━━━━━\u001b[0m \u001b[32m199.7/199.7 KB\u001b[0m \u001b[31m28.1 MB/s\u001b[0m eta \u001b[36m0:00:00\u001b[0m\n",
            "\u001b[?25hBuilding wheels for collected packages: pyspark\n",
            "  Building wheel for pyspark (setup.py) ... \u001b[?25l\u001b[?25hdone\n",
            "  Created wheel for pyspark: filename=pyspark-3.3.1-py2.py3-none-any.whl size=281845514 sha256=c469fe181f4ed61c0de176e5c3181567e82c6c7e34b43f3d127f6332260f631b\n",
            "  Stored in directory: /root/.cache/pip/wheels/51/c8/18/298a4ced8ebb3ab8a7d26a7198c0cc7035abb906bde94a4c4b\n",
            "Successfully built pyspark\n",
            "Installing collected packages: py4j, pyspark\n",
            "  Attempting uninstall: py4j\n",
            "    Found existing installation: py4j 0.10.9.7\n",
            "    Uninstalling py4j-0.10.9.7:\n",
            "      Successfully uninstalled py4j-0.10.9.7\n",
            "Successfully installed py4j-0.10.9.5 pyspark-3.3.1\n"
          ]
        }
      ],
      "source": [
        "!apt-get install openjdk-8-jdk-headless -qq > /dev/null\n",
        "!wget -q https://dlcdn.apache.org/spark/spark-3.3.1/spark-3.3.1-bin-hadoop3.tgz\n",
        "!tar xf spark-3.3.1-bin-hadoop3.tgz\n",
        "!pip install pyspark==3.3.1\n",
        "!pip install -q findspark"
      ]
    },
    {
      "cell_type": "code",
      "source": [
        "# innstall java\n",
        "!apt-get install openjdk-8-jdk-headless -qq > /dev/null\n",
        "\n",
        "# install spark (change the version number if needed)\n",
        "!wget -q https://archive.apache.org/dist/spark/spark-3.0.0/spark-3.0.0-bin-hadoop3.2.tgz\n",
        "\n",
        "# unzip the spark file to the current folder\n",
        "!tar xf spark-3.0.0-bin-hadoop3.2.tgz\n",
        "\n",
        "# set your spark folder to your system path environment. \n",
        "import os\n",
        "os.environ[\"JAVA_HOME\"] = \"/usr/lib/jvm/java-8-openjdk-amd64\"\n",
        "os.environ[\"SPARK_HOME\"] = \"/content/spark-3.0.0-bin-hadoop3.2\"\n",
        "\n",
        "\n",
        "# install findspark using pip\n",
        "!pip install pyspark==2.4.7\n",
        "!pip install -q findspark"
      ],
      "metadata": {
        "colab": {
          "base_uri": "https://localhost:8080/"
        },
        "id": "Nb0BTbS-fNMe",
        "outputId": "1ead5fcd-de99-404c-efe0-fd137afff7eb"
      },
      "execution_count": 1,
      "outputs": [
        {
          "output_type": "stream",
          "name": "stdout",
          "text": [
            "Looking in indexes: https://pypi.org/simple, https://us-python.pkg.dev/colab-wheels/public/simple/\n",
            "Requirement already satisfied: pyspark==2.4.7 in /usr/local/lib/python3.9/dist-packages (2.4.7)\n",
            "Requirement already satisfied: py4j==0.10.7 in /usr/local/lib/python3.9/dist-packages (from pyspark==2.4.7) (0.10.7)\n"
          ]
        }
      ]
    },
    {
      "cell_type": "code",
      "source": [
        "import findspark\n",
        "#findspark.init()"
      ],
      "metadata": {
        "id": "Au8TjZKmTxMM"
      },
      "execution_count": 2,
      "outputs": []
    },
    {
      "cell_type": "code",
      "source": [
        "findspark.init()"
      ],
      "metadata": {
        "id": "qnBtznuzWl4X"
      },
      "execution_count": 3,
      "outputs": []
    },
    {
      "cell_type": "code",
      "source": [
        "from pyspark.sql import SparkSession"
      ],
      "metadata": {
        "id": "4QduYACvTy0A"
      },
      "execution_count": 4,
      "outputs": []
    },
    {
      "cell_type": "markdown",
      "source": [
        "### Criando Sessão do Spark"
      ],
      "metadata": {
        "id": "RvXmcVZDT2pD"
      }
    },
    {
      "cell_type": "code",
      "source": [
        "spark = SparkSession.builder \\\n",
        "    .master('local[*]') \\\n",
        "    .appName('Iniciando com Spark') \\\n",
        "    .config('spark.ui.port', '4050') \\\n",
        "    .getOrCreate()"
      ],
      "metadata": {
        "id": "LTZILNcWT0uT"
      },
      "execution_count": 5,
      "outputs": []
    },
    {
      "cell_type": "code",
      "source": [
        "spark"
      ],
      "metadata": {
        "colab": {
          "base_uri": "https://localhost:8080/",
          "height": 222
        },
        "id": "VnenRH1AT7nP",
        "outputId": "325925bf-83bd-4844-deb6-1f37a17041b0"
      },
      "execution_count": 6,
      "outputs": [
        {
          "output_type": "execute_result",
          "data": {
            "text/plain": [
              "<pyspark.sql.session.SparkSession at 0x7f5ae47c7d30>"
            ],
            "text/html": [
              "\n",
              "            <div>\n",
              "                <p><b>SparkSession - in-memory</b></p>\n",
              "                \n",
              "        <div>\n",
              "            <p><b>SparkContext</b></p>\n",
              "\n",
              "            <p><a href=\"http://d31fa9d98bd7:4050\">Spark UI</a></p>\n",
              "\n",
              "            <dl>\n",
              "              <dt>Version</dt>\n",
              "                <dd><code>v3.0.0</code></dd>\n",
              "              <dt>Master</dt>\n",
              "                <dd><code>local[*]</code></dd>\n",
              "              <dt>AppName</dt>\n",
              "                <dd><code>Iniciando com Spark</code></dd>\n",
              "            </dl>\n",
              "        </div>\n",
              "        \n",
              "            </div>\n",
              "        "
            ]
          },
          "metadata": {},
          "execution_count": 6
        }
      ]
    },
    {
      "cell_type": "markdown",
      "source": [
        "## Download do arquivo"
      ],
      "metadata": {
        "id": "505LBMi_UF6q"
      }
    },
    {
      "cell_type": "code",
      "source": [
        "!wget -c --no-check-certificate \"https://onedrive.live.com/download?cid=08A3A632FA9EDBB1&resid=8A3A632FA9EDBB1%2110217&authkey=ACij76UvvMhutw8\" -O dataset.zip"
      ],
      "metadata": {
        "colab": {
          "base_uri": "https://localhost:8080/"
        },
        "id": "ssqAa7DDT9SY",
        "outputId": "2a2dcf65-34c8-4d3b-dbee-f0616de82948"
      },
      "execution_count": 7,
      "outputs": [
        {
          "output_type": "stream",
          "name": "stdout",
          "text": [
            "--2023-03-18 16:26:49--  https://onedrive.live.com/download?cid=08A3A632FA9EDBB1&resid=8A3A632FA9EDBB1%2110217&authkey=ACij76UvvMhutw8\n",
            "Resolving onedrive.live.com (onedrive.live.com)... 13.107.42.13\n",
            "Connecting to onedrive.live.com (onedrive.live.com)|13.107.42.13|:443... connected.\n",
            "HTTP request sent, awaiting response... 302 Found\n",
            "Location: https://pepxtw.dm.files.1drv.com/y4mZ7fZZjGhDso612n5_8PnybPWJsSBDyNLBLpI5MmSq2OQ4i_envOoCXFN0vsBVnzxtLZTYZkhl8KB6Hej-0-cOZeynhlGYllZyEUgnDFMOtA2fLhIsDdEM-ccx0KN37mME_XLGB9rzVScIGY3uIbEDEre8B6E3Glna36dL6qMhBCVJgdyED1OSeE_Rv-7JkqJGxQ_j6TDpQ_wasXAzBtSHw/brazilian-ecommerce.zip?download&psid=1 [following]\n",
            "--2023-03-18 16:26:49--  https://pepxtw.dm.files.1drv.com/y4mZ7fZZjGhDso612n5_8PnybPWJsSBDyNLBLpI5MmSq2OQ4i_envOoCXFN0vsBVnzxtLZTYZkhl8KB6Hej-0-cOZeynhlGYllZyEUgnDFMOtA2fLhIsDdEM-ccx0KN37mME_XLGB9rzVScIGY3uIbEDEre8B6E3Glna36dL6qMhBCVJgdyED1OSeE_Rv-7JkqJGxQ_j6TDpQ_wasXAzBtSHw/brazilian-ecommerce.zip?download&psid=1\n",
            "Resolving pepxtw.dm.files.1drv.com (pepxtw.dm.files.1drv.com)... 13.107.42.12\n",
            "Connecting to pepxtw.dm.files.1drv.com (pepxtw.dm.files.1drv.com)|13.107.42.12|:443... connected.\n",
            "HTTP request sent, awaiting response... 200 OK\n",
            "Length: 44717580 (43M) [application/zip]\n",
            "Saving to: ‘dataset.zip’\n",
            "\n",
            "dataset.zip         100%[===================>]  42.65M  66.8MB/s    in 0.6s    \n",
            "\n",
            "2023-03-18 16:26:54 (66.8 MB/s) - ‘dataset.zip’ saved [44717580/44717580]\n",
            "\n"
          ]
        }
      ]
    },
    {
      "cell_type": "markdown",
      "source": [
        "### Salvando CSVs\n",
        "Os arquivos estaram disponíveis na pasta /content/dataset"
      ],
      "metadata": {
        "id": "eL5HAnmPU8qW"
      }
    },
    {
      "cell_type": "code",
      "source": [
        "!unzip /content/dataset.zip -d /content/dataset"
      ],
      "metadata": {
        "colab": {
          "base_uri": "https://localhost:8080/"
        },
        "id": "rgEaYUAjUNCA",
        "outputId": "7813cb8d-afb2-409a-f527-4e79a3e0ecbc"
      },
      "execution_count": 8,
      "outputs": [
        {
          "output_type": "stream",
          "name": "stdout",
          "text": [
            "Archive:  /content/dataset.zip\n",
            "  inflating: /content/dataset/olist_customers_dataset.csv  \n",
            "  inflating: /content/dataset/olist_geolocation_dataset.csv  \n",
            "  inflating: /content/dataset/olist_order_items_dataset.csv  \n",
            "  inflating: /content/dataset/olist_order_payments_dataset.csv  \n",
            "  inflating: /content/dataset/olist_order_reviews_dataset.csv  \n",
            "  inflating: /content/dataset/olist_orders_dataset.csv  \n",
            "  inflating: /content/dataset/olist_products_dataset.csv  \n",
            "  inflating: /content/dataset/olist_sellers_dataset.csv  \n",
            "  inflating: /content/dataset/product_category_name_translation.csv  \n"
          ]
        }
      ]
    },
    {
      "cell_type": "markdown",
      "source": [
        "# Desafios\n",
        "Para realizar os desafios, use Python com Pyspark ou Spark SQL neste notebook, na célula de código abaixo do descritivo."
      ],
      "metadata": {
        "id": "Y1HZAhtKVJ10"
      }
    },
    {
      "cell_type": "markdown",
      "source": [
        "### 1 - Ingestão de dados\n",
        "Salve os arquivos CSVs em um formato parquet, se atentando ao tipo correto de dados (salvar datas com o tipo adequado, números com o tipo correto, etc)"
      ],
      "metadata": {
        "id": "mEr3_b-2VPrw"
      }
    },
    {
      "cell_type": "code",
      "source": [
        "#Lendo os arquivos CSV no DataFrame\n",
        "\n",
        "geolocation = spark.read.csv('/content/dataset/olist_geolocation_dataset.csv', sep=',', inferSchema=True, header=True)\n",
        "\n",
        "customers = spark.read.csv('/content/dataset/olist_customers_dataset.csv', sep=',', inferSchema=True, header=True)\n",
        "\n",
        "order_items = spark.read.csv('/content/dataset/olist_order_items_dataset.csv', sep=',', inferSchema=True, header=True)\n",
        "\n",
        "order_payments = spark.read.csv('/content/dataset/olist_order_payments_dataset.csv', sep=',', inferSchema=True, header=True)\n",
        "\n",
        "order_reviews = spark.read.csv('/content/dataset/olist_order_reviews_dataset.csv', sep=',', inferSchema=True, header=True)\n",
        "\n",
        "orders = spark.read.csv('/content/dataset/olist_orders_dataset.csv', sep=',', inferSchema=True, header=True)\n",
        "\n",
        "products = spark.read.csv('/content/dataset/olist_products_dataset.csv', sep=',',  inferSchema=True, header=True)\n",
        "\n",
        "sellers = spark.read.csv('/content/dataset/olist_sellers_dataset.csv', sep=',', inferSchema=True, header=True)\n",
        "\n",
        "product_category = spark.read.csv('/content/dataset/product_category_name_translation.csv', sep=',', inferSchema=True, header=True)"
      ],
      "metadata": {
        "id": "fbD2R4CHu26g"
      },
      "execution_count": 31,
      "outputs": []
    },
    {
      "cell_type": "code",
      "source": [
        "#Salvando arquivos em parquet\n",
        "\n",
        "geolocation.write.parquet(\"geolocation.parquet\")\n",
        "\n",
        "customers.write.parquet(\"customers.parquet\")\n",
        "\n",
        "order_items.write.parquet(\"order_items.parquet\")\n",
        "\n",
        "order_payments.write.parquet(\"order_payments.parquet\")\n",
        "\n",
        "order_reviews.write.parquet(\"order_reviews.parquet\")\n",
        "\n",
        "orders.write.parquet(\"ordersn.parquet\")\n",
        "\n",
        "products.write.parquet(\"products.parquet\")\n",
        "\n",
        "sellers.write.parquet(\"sellers.parquet\")\n",
        "\n",
        "product_category.write.parquet(\"product_category.parquet\")"
      ],
      "metadata": {
        "id": "gIJL2oI6xWkE"
      },
      "execution_count": 36,
      "outputs": []
    },
    {
      "cell_type": "markdown",
      "source": [
        "## 2 - Crie uma base unificada\n",
        "Crie uma base em parquet unificadando os datasets:\n",
        "- olist_orders_dataset\n",
        "- olist_order_items_dataset\n",
        "- olist_order_payments_dataset\n",
        "- olist_order_reviews_dataset"
      ],
      "metadata": {
        "id": "-iO3nQT8WwOu"
      }
    },
    {
      "cell_type": "code",
      "source": [
        "#Unificando bases pelo campo order_id\n",
        "orders_dataset = order_items.join(orders, [\"order_id\"]) \\\n",
        "                            .join(order_payments,[\"order_id\"]) \\\n",
        "                            .join(order_reviews, [\"order_id\"]) \\\n",
        "                            #"
      ],
      "metadata": {
        "id": "o7PsQ4KeCfxb"
      },
      "execution_count": 83,
      "outputs": []
    },
    {
      "cell_type": "code",
      "source": [
        "orders_dataset.write.parquet(\"orders_dataset.parquet\")"
      ],
      "metadata": {
        "id": "vimtatvv92Aa"
      },
      "execution_count": 86,
      "outputs": []
    },
    {
      "cell_type": "markdown",
      "source": [
        "## 3 - Gerar um arquivo Json\n",
        "Salvar o olist_order_reviews_dataset como um único arquivo Json"
      ],
      "metadata": {
        "id": "r3NDqMaBc0FS"
      }
    },
    {
      "cell_type": "code",
      "source": [
        "## Gerando arquivo Json\n",
        "order_reviews.write.json(\"order_reviews.json\")"
      ],
      "metadata": {
        "id": "bSAr6tOhrSFJ"
      },
      "execution_count": 87,
      "outputs": []
    },
    {
      "cell_type": "markdown",
      "source": [
        "## 4 - Qual foi o faturamento mês a mês? Qual o mês com maior número de pedidos?"
      ],
      "metadata": {
        "id": "Kw5xzYgbayrB"
      }
    },
    {
      "cell_type": "code",
      "source": [
        "from pyspark.sql.functions import *\n",
        "\n",
        "#faturamento = orders_dataset.select(col('product_id'),col('order_item_id'),to_date(col(\"order_approved_at\")).alias(\"date\"),col('payment_value'))\n",
        "faturamento = orders_dataset.select(col('product_id'),col('order_item_id'), date_format(col(\"order_approved_at\", \"yyyy-MM\")),col('payment_value'))\n"
      ],
      "metadata": {
        "id": "TE96KmDIKL6U",
        "outputId": "e6c504d6-8440-4c58-faf8-44d00a794e40",
        "colab": {
          "base_uri": "https://localhost:8080/",
          "height": 207
        }
      },
      "execution_count": 186,
      "outputs": [
        {
          "output_type": "error",
          "ename": "TypeError",
          "evalue": "ignored",
          "traceback": [
            "\u001b[0;31m---------------------------------------------------------------------------\u001b[0m",
            "\u001b[0;31mTypeError\u001b[0m                                 Traceback (most recent call last)",
            "\u001b[0;32m<ipython-input-186-b31face196e7>\u001b[0m in \u001b[0;36m<module>\u001b[0;34m\u001b[0m\n\u001b[1;32m      2\u001b[0m \u001b[0;34m\u001b[0m\u001b[0m\n\u001b[1;32m      3\u001b[0m \u001b[0;31m#faturamento = orders_dataset.select(col('product_id'),col('order_item_id'),to_date(col(\"order_approved_at\")).alias(\"date\"),col('payment_value'))\u001b[0m\u001b[0;34m\u001b[0m\u001b[0;34m\u001b[0m\u001b[0m\n\u001b[0;32m----> 4\u001b[0;31m \u001b[0mfaturamento\u001b[0m \u001b[0;34m=\u001b[0m \u001b[0morders_dataset\u001b[0m\u001b[0;34m.\u001b[0m\u001b[0mselect\u001b[0m\u001b[0;34m(\u001b[0m\u001b[0mcol\u001b[0m\u001b[0;34m(\u001b[0m\u001b[0;34m'product_id'\u001b[0m\u001b[0;34m)\u001b[0m\u001b[0;34m,\u001b[0m\u001b[0mcol\u001b[0m\u001b[0;34m(\u001b[0m\u001b[0;34m'order_item_id'\u001b[0m\u001b[0;34m)\u001b[0m\u001b[0;34m,\u001b[0m \u001b[0mdate_format\u001b[0m\u001b[0;34m(\u001b[0m\u001b[0mcol\u001b[0m\u001b[0;34m(\u001b[0m\u001b[0;34m\"order_approved_at\"\u001b[0m\u001b[0;34m,\u001b[0m \u001b[0;34m\"yyyy-MM\"\u001b[0m\u001b[0;34m)\u001b[0m\u001b[0;34m)\u001b[0m\u001b[0;34m,\u001b[0m\u001b[0mcol\u001b[0m\u001b[0;34m(\u001b[0m\u001b[0;34m'payment_value'\u001b[0m\u001b[0;34m)\u001b[0m\u001b[0;34m)\u001b[0m\u001b[0;34m\u001b[0m\u001b[0;34m\u001b[0m\u001b[0m\n\u001b[0m",
            "\u001b[0;31mTypeError\u001b[0m: _() takes 1 positional argument but 2 were given"
          ]
        }
      ]
    },
    {
      "cell_type": "code",
      "source": [
        "from pyspark.sql.functions import date_format\n",
        "\n",
        "faturamento =faturamento. \\\n",
        "    withColumn(\"date\", date_format(\"order_approved_at\", \"yyyy-MM\")). \\\n",
        "    show(truncate=False)"
      ],
      "metadata": {
        "id": "Bzib_8VxccuV",
        "outputId": "bfb8a4f3-e727-4904-9d07-bb308cc00134",
        "colab": {
          "base_uri": "https://localhost:8080/"
        }
      },
      "execution_count": 181,
      "outputs": [
        {
          "output_type": "stream",
          "name": "stdout",
          "text": [
            "+--------------------------------+-------------+-------------------+-------------+-------+\n",
            "|product_id                      |order_item_id|order_approved_at  |payment_value|date   |\n",
            "+--------------------------------+-------------+-------------------+-------------+-------+\n",
            "|4244733e06e7ecb4970a6e2683c13e61|1            |2017-09-13 09:45:35|72.19        |2017-09|\n",
            "|e5f2d52b802189ee658865ca93d83a8f|1            |2017-04-26 11:05:13|259.83       |2017-04|\n",
            "|c777355d18b72b67abbeef9df44fd0fd|1            |2018-01-14 14:48:30|216.87       |2018-01|\n",
            "|7634da152a4610f1595efa32f14722fc|1            |2018-08-08 10:10:18|25.78        |2018-08|\n",
            "|ac6c3623068f30de03045865e4e10089|1            |2017-02-04 14:10:13|218.04       |2017-02|\n",
            "|ef92defde845ab8450f9d70c526ef70f|1            |2017-05-17 03:55:27|34.59        |2017-05|\n",
            "|8d4f2bb7e93e6710a28f34fa83ee7d28|1            |2017-12-10 12:10:31|31.75        |2017-12|\n",
            "|557d850972a7d6f792fd18ae1400d9b6|1            |2018-07-05 16:35:48|880.75       |2018-07|\n",
            "|310ae3c140ff94b03219ad0adc3c778f|1            |2018-03-20 18:35:21|157.6        |2018-03|\n",
            "|4535b0e1091c278dfd193e5a1d63b39f|1            |2018-07-02 14:10:56|65.39        |2018-07|\n",
            "|d63c1011f49d98b976c352955b1c4bea|1            |2018-03-24 22:28:09|68.87        |2018-03|\n",
            "|f177554ea93259a5b282f24e33f65ab6|1            |2018-07-27 18:00:06|57.98        |2018-07|\n",
            "|99a4788cb24856965c36a24e339b6058|1            |2018-07-24 17:24:20|97.32        |2018-07|\n",
            "|368c6c730842d78016ad823897a372db|1            |2018-02-15 03:55:52|126.54       |2018-02|\n",
            "|368c6c730842d78016ad823897a372db|2            |2018-02-15 03:55:52|126.54       |2018-02|\n",
            "|8cab8abac59158715e0d70a36c807415|1            |2018-08-15 12:15:10|127.55       |2018-08|\n",
            "|3f27ac8e699df3d300ec4a5d8c5cf0b2|1            |2018-04-25 09:33:19|650.34       |2018-04|\n",
            "|4fa33915031a8cde03dd0d3e8fb27f01|1            |2018-05-11 20:57:03|152.77       |2018-05|\n",
            "|b50c950aba0dcead2c48032a690ce817|1            |2017-08-15 03:35:32|112.71       |2017-08|\n",
            "|5ed9eaf534f6936b51d0b6c5e4d5c2e9|1            |2018-02-22 12:08:37|41.11        |2018-02|\n",
            "+--------------------------------+-------------+-------------------+-------------+-------+\n",
            "only showing top 20 rows\n",
            "\n"
          ]
        }
      ]
    },
    {
      "cell_type": "code",
      "source": [
        "faturamento = spark.createDataFrame(faturamento, schema=\"product_id STRING, payment_value STRING, order_item_id STRING, date DATE,\")"
      ],
      "metadata": {
        "id": "kfVkwgthdBZj",
        "outputId": "4df854ca-f5e2-4da1-9739-8dccad5ad443",
        "colab": {
          "base_uri": "https://localhost:8080/",
          "height": 299
        }
      },
      "execution_count": 185,
      "outputs": [
        {
          "output_type": "error",
          "ename": "TypeError",
          "evalue": "ignored",
          "traceback": [
            "\u001b[0;31m---------------------------------------------------------------------------\u001b[0m",
            "\u001b[0;31mTypeError\u001b[0m                                 Traceback (most recent call last)",
            "\u001b[0;32m<ipython-input-185-b74c473840b4>\u001b[0m in \u001b[0;36m<module>\u001b[0;34m\u001b[0m\n\u001b[0;32m----> 1\u001b[0;31m \u001b[0mfaturamento\u001b[0m \u001b[0;34m=\u001b[0m \u001b[0mspark\u001b[0m\u001b[0;34m.\u001b[0m\u001b[0mcreateDataFrame\u001b[0m\u001b[0;34m(\u001b[0m\u001b[0mfaturamento\u001b[0m\u001b[0;34m,\u001b[0m \u001b[0mschema\u001b[0m\u001b[0;34m=\u001b[0m\u001b[0;34m\"product_id STRING, payment_value STRING, order_item_id STRING, date DATE,\"\u001b[0m\u001b[0;34m)\u001b[0m\u001b[0;34m\u001b[0m\u001b[0;34m\u001b[0m\u001b[0m\n\u001b[0m",
            "\u001b[0;32m/content/spark-3.0.0-bin-hadoop3.2/python/pyspark/sql/session.py\u001b[0m in \u001b[0;36mcreateDataFrame\u001b[0;34m(self, data, schema, samplingRatio, verifySchema)\u001b[0m\n\u001b[1;32m    583\u001b[0m         \u001b[0mself\u001b[0m\u001b[0;34m.\u001b[0m\u001b[0m_jvm\u001b[0m\u001b[0;34m.\u001b[0m\u001b[0mSparkSession\u001b[0m\u001b[0;34m.\u001b[0m\u001b[0msetActiveSession\u001b[0m\u001b[0;34m(\u001b[0m\u001b[0mself\u001b[0m\u001b[0;34m.\u001b[0m\u001b[0m_jsparkSession\u001b[0m\u001b[0;34m)\u001b[0m\u001b[0;34m\u001b[0m\u001b[0;34m\u001b[0m\u001b[0m\n\u001b[1;32m    584\u001b[0m         \u001b[0;32mif\u001b[0m \u001b[0misinstance\u001b[0m\u001b[0;34m(\u001b[0m\u001b[0mdata\u001b[0m\u001b[0;34m,\u001b[0m \u001b[0mDataFrame\u001b[0m\u001b[0;34m)\u001b[0m\u001b[0;34m:\u001b[0m\u001b[0;34m\u001b[0m\u001b[0;34m\u001b[0m\u001b[0m\n\u001b[0;32m--> 585\u001b[0;31m             \u001b[0;32mraise\u001b[0m \u001b[0mTypeError\u001b[0m\u001b[0;34m(\u001b[0m\u001b[0;34m\"data is already a DataFrame\"\u001b[0m\u001b[0;34m)\u001b[0m\u001b[0;34m\u001b[0m\u001b[0;34m\u001b[0m\u001b[0m\n\u001b[0m\u001b[1;32m    586\u001b[0m \u001b[0;34m\u001b[0m\u001b[0m\n\u001b[1;32m    587\u001b[0m         \u001b[0;32mif\u001b[0m \u001b[0misinstance\u001b[0m\u001b[0;34m(\u001b[0m\u001b[0mschema\u001b[0m\u001b[0;34m,\u001b[0m \u001b[0mbasestring\u001b[0m\u001b[0;34m)\u001b[0m\u001b[0;34m:\u001b[0m\u001b[0;34m\u001b[0m\u001b[0;34m\u001b[0m\u001b[0m\n",
            "\u001b[0;31mTypeError\u001b[0m: data is already a DataFrame"
          ]
        }
      ]
    },
    {
      "cell_type": "code",
      "source": [
        "d = faturamento.toPandas()\n",
        "d.head()"
      ],
      "metadata": {
        "id": "NB8_vNgRKpii",
        "outputId": "b9ad1f58-48c8-4c2a-8adb-ccc99c2f61d4",
        "colab": {
          "base_uri": "https://localhost:8080/",
          "height": 206
        }
      },
      "execution_count": 184,
      "outputs": [
        {
          "output_type": "execute_result",
          "data": {
            "text/plain": [
              "                         product_id  order_item_id    order_approved_at  \\\n",
              "0  4244733e06e7ecb4970a6e2683c13e61              1  2017-09-13 09:45:35   \n",
              "1  e5f2d52b802189ee658865ca93d83a8f              1  2017-04-26 11:05:13   \n",
              "2  c777355d18b72b67abbeef9df44fd0fd              1  2018-01-14 14:48:30   \n",
              "3  7634da152a4610f1595efa32f14722fc              1  2018-08-08 10:10:18   \n",
              "4  ac6c3623068f30de03045865e4e10089              1  2017-02-04 14:10:13   \n",
              "\n",
              "   payment_value  \n",
              "0          72.19  \n",
              "1         259.83  \n",
              "2         216.87  \n",
              "3          25.78  \n",
              "4         218.04  "
            ],
            "text/html": [
              "\n",
              "  <div id=\"df-9d17274c-4513-4f8b-ac34-85b814387d70\">\n",
              "    <div class=\"colab-df-container\">\n",
              "      <div>\n",
              "<style scoped>\n",
              "    .dataframe tbody tr th:only-of-type {\n",
              "        vertical-align: middle;\n",
              "    }\n",
              "\n",
              "    .dataframe tbody tr th {\n",
              "        vertical-align: top;\n",
              "    }\n",
              "\n",
              "    .dataframe thead th {\n",
              "        text-align: right;\n",
              "    }\n",
              "</style>\n",
              "<table border=\"1\" class=\"dataframe\">\n",
              "  <thead>\n",
              "    <tr style=\"text-align: right;\">\n",
              "      <th></th>\n",
              "      <th>product_id</th>\n",
              "      <th>order_item_id</th>\n",
              "      <th>order_approved_at</th>\n",
              "      <th>payment_value</th>\n",
              "    </tr>\n",
              "  </thead>\n",
              "  <tbody>\n",
              "    <tr>\n",
              "      <th>0</th>\n",
              "      <td>4244733e06e7ecb4970a6e2683c13e61</td>\n",
              "      <td>1</td>\n",
              "      <td>2017-09-13 09:45:35</td>\n",
              "      <td>72.19</td>\n",
              "    </tr>\n",
              "    <tr>\n",
              "      <th>1</th>\n",
              "      <td>e5f2d52b802189ee658865ca93d83a8f</td>\n",
              "      <td>1</td>\n",
              "      <td>2017-04-26 11:05:13</td>\n",
              "      <td>259.83</td>\n",
              "    </tr>\n",
              "    <tr>\n",
              "      <th>2</th>\n",
              "      <td>c777355d18b72b67abbeef9df44fd0fd</td>\n",
              "      <td>1</td>\n",
              "      <td>2018-01-14 14:48:30</td>\n",
              "      <td>216.87</td>\n",
              "    </tr>\n",
              "    <tr>\n",
              "      <th>3</th>\n",
              "      <td>7634da152a4610f1595efa32f14722fc</td>\n",
              "      <td>1</td>\n",
              "      <td>2018-08-08 10:10:18</td>\n",
              "      <td>25.78</td>\n",
              "    </tr>\n",
              "    <tr>\n",
              "      <th>4</th>\n",
              "      <td>ac6c3623068f30de03045865e4e10089</td>\n",
              "      <td>1</td>\n",
              "      <td>2017-02-04 14:10:13</td>\n",
              "      <td>218.04</td>\n",
              "    </tr>\n",
              "  </tbody>\n",
              "</table>\n",
              "</div>\n",
              "      <button class=\"colab-df-convert\" onclick=\"convertToInteractive('df-9d17274c-4513-4f8b-ac34-85b814387d70')\"\n",
              "              title=\"Convert this dataframe to an interactive table.\"\n",
              "              style=\"display:none;\">\n",
              "        \n",
              "  <svg xmlns=\"http://www.w3.org/2000/svg\" height=\"24px\"viewBox=\"0 0 24 24\"\n",
              "       width=\"24px\">\n",
              "    <path d=\"M0 0h24v24H0V0z\" fill=\"none\"/>\n",
              "    <path d=\"M18.56 5.44l.94 2.06.94-2.06 2.06-.94-2.06-.94-.94-2.06-.94 2.06-2.06.94zm-11 1L8.5 8.5l.94-2.06 2.06-.94-2.06-.94L8.5 2.5l-.94 2.06-2.06.94zm10 10l.94 2.06.94-2.06 2.06-.94-2.06-.94-.94-2.06-.94 2.06-2.06.94z\"/><path d=\"M17.41 7.96l-1.37-1.37c-.4-.4-.92-.59-1.43-.59-.52 0-1.04.2-1.43.59L10.3 9.45l-7.72 7.72c-.78.78-.78 2.05 0 2.83L4 21.41c.39.39.9.59 1.41.59.51 0 1.02-.2 1.41-.59l7.78-7.78 2.81-2.81c.8-.78.8-2.07 0-2.86zM5.41 20L4 18.59l7.72-7.72 1.47 1.35L5.41 20z\"/>\n",
              "  </svg>\n",
              "      </button>\n",
              "      \n",
              "  <style>\n",
              "    .colab-df-container {\n",
              "      display:flex;\n",
              "      flex-wrap:wrap;\n",
              "      gap: 12px;\n",
              "    }\n",
              "\n",
              "    .colab-df-convert {\n",
              "      background-color: #E8F0FE;\n",
              "      border: none;\n",
              "      border-radius: 50%;\n",
              "      cursor: pointer;\n",
              "      display: none;\n",
              "      fill: #1967D2;\n",
              "      height: 32px;\n",
              "      padding: 0 0 0 0;\n",
              "      width: 32px;\n",
              "    }\n",
              "\n",
              "    .colab-df-convert:hover {\n",
              "      background-color: #E2EBFA;\n",
              "      box-shadow: 0px 1px 2px rgba(60, 64, 67, 0.3), 0px 1px 3px 1px rgba(60, 64, 67, 0.15);\n",
              "      fill: #174EA6;\n",
              "    }\n",
              "\n",
              "    [theme=dark] .colab-df-convert {\n",
              "      background-color: #3B4455;\n",
              "      fill: #D2E3FC;\n",
              "    }\n",
              "\n",
              "    [theme=dark] .colab-df-convert:hover {\n",
              "      background-color: #434B5C;\n",
              "      box-shadow: 0px 1px 3px 1px rgba(0, 0, 0, 0.15);\n",
              "      filter: drop-shadow(0px 1px 2px rgba(0, 0, 0, 0.3));\n",
              "      fill: #FFFFFF;\n",
              "    }\n",
              "  </style>\n",
              "\n",
              "      <script>\n",
              "        const buttonEl =\n",
              "          document.querySelector('#df-9d17274c-4513-4f8b-ac34-85b814387d70 button.colab-df-convert');\n",
              "        buttonEl.style.display =\n",
              "          google.colab.kernel.accessAllowed ? 'block' : 'none';\n",
              "\n",
              "        async function convertToInteractive(key) {\n",
              "          const element = document.querySelector('#df-9d17274c-4513-4f8b-ac34-85b814387d70');\n",
              "          const dataTable =\n",
              "            await google.colab.kernel.invokeFunction('convertToInteractive',\n",
              "                                                     [key], {});\n",
              "          if (!dataTable) return;\n",
              "\n",
              "          const docLinkHtml = 'Like what you see? Visit the ' +\n",
              "            '<a target=\"_blank\" href=https://colab.research.google.com/notebooks/data_table.ipynb>data table notebook</a>'\n",
              "            + ' to learn more about interactive tables.';\n",
              "          element.innerHTML = '';\n",
              "          dataTable['output_type'] = 'display_data';\n",
              "          await google.colab.output.renderOutput(dataTable, element);\n",
              "          const docLink = document.createElement('div');\n",
              "          docLink.innerHTML = docLinkHtml;\n",
              "          element.appendChild(docLink);\n",
              "        }\n",
              "      </script>\n",
              "    </div>\n",
              "  </div>\n",
              "  "
            ]
          },
          "metadata": {},
          "execution_count": 184
        }
      ]
    },
    {
      "cell_type": "code",
      "source": [
        "faturamento.groupBy(\"date\") \\\n",
        "    .agg(sum(\"payment_value\").alias(\"soma_pag\"), \\\n",
        "         count(\"product_id\").alias(\"produtos\"), \\\n",
        "        ) \\\n",
        "      .sort(desc(\"produtos\")) \\\n",
        "      .show(truncate=False)"
      ],
      "metadata": {
        "colab": {
          "base_uri": "https://localhost:8080/",
          "height": 244
        },
        "id": "sraKQuL2F5al",
        "outputId": "962911e0-e375-4b5b-a1c9-f172deb343c4"
      },
      "execution_count": 182,
      "outputs": [
        {
          "output_type": "error",
          "ename": "AttributeError",
          "evalue": "ignored",
          "traceback": [
            "\u001b[0;31m---------------------------------------------------------------------------\u001b[0m",
            "\u001b[0;31mAttributeError\u001b[0m                            Traceback (most recent call last)",
            "\u001b[0;32m<ipython-input-182-4a67980e5240>\u001b[0m in \u001b[0;36m<module>\u001b[0;34m\u001b[0m\n\u001b[0;32m----> 1\u001b[0;31m \u001b[0mfaturamento\u001b[0m\u001b[0;34m.\u001b[0m\u001b[0mgroupBy\u001b[0m\u001b[0;34m(\u001b[0m\u001b[0;34m\"date\"\u001b[0m\u001b[0;34m)\u001b[0m\u001b[0;31m \u001b[0m\u001b[0;31m\\\u001b[0m\u001b[0;34m\u001b[0m\u001b[0;34m\u001b[0m\u001b[0m\n\u001b[0m\u001b[1;32m      2\u001b[0m     .agg(sum(\"payment_value\").alias(\"soma_pag\"), \\\n\u001b[1;32m      3\u001b[0m          \u001b[0mcount\u001b[0m\u001b[0;34m(\u001b[0m\u001b[0;34m\"product_id\"\u001b[0m\u001b[0;34m)\u001b[0m\u001b[0;34m.\u001b[0m\u001b[0malias\u001b[0m\u001b[0;34m(\u001b[0m\u001b[0;34m\"produtos\"\u001b[0m\u001b[0;34m)\u001b[0m\u001b[0;34m,\u001b[0m\u001b[0;31m \u001b[0m\u001b[0;31m\\\u001b[0m\u001b[0;34m\u001b[0m\u001b[0;34m\u001b[0m\u001b[0m\n\u001b[1;32m      4\u001b[0m         ) \\\n\u001b[1;32m      5\u001b[0m       \u001b[0;34m.\u001b[0m\u001b[0msort\u001b[0m\u001b[0;34m(\u001b[0m\u001b[0mdesc\u001b[0m\u001b[0;34m(\u001b[0m\u001b[0;34m\"produtos\"\u001b[0m\u001b[0;34m)\u001b[0m\u001b[0;34m)\u001b[0m\u001b[0;31m \u001b[0m\u001b[0;31m\\\u001b[0m\u001b[0;34m\u001b[0m\u001b[0;34m\u001b[0m\u001b[0m\n",
            "\u001b[0;31mAttributeError\u001b[0m: 'NoneType' object has no attribute 'groupBy'"
          ]
        }
      ]
    },
    {
      "cell_type": "code",
      "source": [
        "faturamento.groupBy(\"order_item_id\",\"date\").sum(\"payment_value\").show(truncate=False)"
      ],
      "metadata": {
        "id": "Qxd4lK2UUMbq",
        "outputId": "c50af1d6-e741-4c67-90d7-2a59ca5a3103",
        "colab": {
          "base_uri": "https://localhost:8080/"
        }
      },
      "execution_count": 142,
      "outputs": [
        {
          "output_type": "stream",
          "name": "stdout",
          "text": [
            "+-------------+----------+------------------+\n",
            "|order_item_id|date      |sum(payment_value)|\n",
            "+-------------+----------+------------------+\n",
            "|1            |2017-12-14|24584.059999999994|\n",
            "|1            |2018-03-10|34091.05999999999 |\n",
            "|3            |2018-08-03|2343.5999999999995|\n",
            "|1            |2017-07-21|16138.090000000006|\n",
            "|1            |2017-07-23|10520.5           |\n",
            "|1            |2017-07-14|23167.21          |\n",
            "|11           |2018-02-22|528.78            |\n",
            "|2            |2017-05-17|3319.629999999999 |\n",
            "|4            |2017-08-16|1498.6699999999998|\n",
            "|4            |2018-02-09|594.45            |\n",
            "|3            |2017-12-15|1859.02           |\n",
            "|3            |2018-03-15|1994.02           |\n",
            "|4            |2017-02-19|573.85            |\n",
            "|1            |2017-12-11|29420.989999999998|\n",
            "|1            |2017-07-31|17610.07          |\n",
            "|3            |2018-07-21|752.31            |\n",
            "|1            |2017-12-21|21965.239999999998|\n",
            "|1            |2017-12-31|8506.349999999999 |\n",
            "|2            |2017-07-05|3836.98           |\n",
            "|2            |2018-07-30|4411.67           |\n",
            "+-------------+----------+------------------+\n",
            "only showing top 20 rows\n",
            "\n"
          ]
        }
      ]
    },
    {
      "cell_type": "code",
      "source": [
        "## Code\n",
        "\n",
        "df = order_payments.toPandas()\n",
        "df.head()"
      ],
      "metadata": {
        "id": "V68KihiDbAnK",
        "colab": {
          "base_uri": "https://localhost:8080/",
          "height": 206
        },
        "outputId": "9a53edea-4040-45a0-8a4f-07f850e6fbe8"
      },
      "execution_count": 88,
      "outputs": [
        {
          "output_type": "execute_result",
          "data": {
            "text/plain": [
              "                           order_id  payment_sequential payment_type  \\\n",
              "0  b81ef226f3fe1789b1e8b2acac839d17                   1  credit_card   \n",
              "1  a9810da82917af2d9aefd1278f1dcfa0                   1  credit_card   \n",
              "2  25e8ea4e93396b6fa0d3dd708e76c1bd                   1  credit_card   \n",
              "3  ba78997921bbcdc1373bb41e913ab953                   1  credit_card   \n",
              "4  42fdf880ba16b47b59251dd489d4441a                   1  credit_card   \n",
              "\n",
              "   payment_installments  payment_value  \n",
              "0                     8          99.33  \n",
              "1                     1          24.39  \n",
              "2                     1          65.71  \n",
              "3                     8         107.78  \n",
              "4                     2         128.45  "
            ],
            "text/html": [
              "\n",
              "  <div id=\"df-fec069eb-73a2-457e-9944-6b4a3cb1addd\">\n",
              "    <div class=\"colab-df-container\">\n",
              "      <div>\n",
              "<style scoped>\n",
              "    .dataframe tbody tr th:only-of-type {\n",
              "        vertical-align: middle;\n",
              "    }\n",
              "\n",
              "    .dataframe tbody tr th {\n",
              "        vertical-align: top;\n",
              "    }\n",
              "\n",
              "    .dataframe thead th {\n",
              "        text-align: right;\n",
              "    }\n",
              "</style>\n",
              "<table border=\"1\" class=\"dataframe\">\n",
              "  <thead>\n",
              "    <tr style=\"text-align: right;\">\n",
              "      <th></th>\n",
              "      <th>order_id</th>\n",
              "      <th>payment_sequential</th>\n",
              "      <th>payment_type</th>\n",
              "      <th>payment_installments</th>\n",
              "      <th>payment_value</th>\n",
              "    </tr>\n",
              "  </thead>\n",
              "  <tbody>\n",
              "    <tr>\n",
              "      <th>0</th>\n",
              "      <td>b81ef226f3fe1789b1e8b2acac839d17</td>\n",
              "      <td>1</td>\n",
              "      <td>credit_card</td>\n",
              "      <td>8</td>\n",
              "      <td>99.33</td>\n",
              "    </tr>\n",
              "    <tr>\n",
              "      <th>1</th>\n",
              "      <td>a9810da82917af2d9aefd1278f1dcfa0</td>\n",
              "      <td>1</td>\n",
              "      <td>credit_card</td>\n",
              "      <td>1</td>\n",
              "      <td>24.39</td>\n",
              "    </tr>\n",
              "    <tr>\n",
              "      <th>2</th>\n",
              "      <td>25e8ea4e93396b6fa0d3dd708e76c1bd</td>\n",
              "      <td>1</td>\n",
              "      <td>credit_card</td>\n",
              "      <td>1</td>\n",
              "      <td>65.71</td>\n",
              "    </tr>\n",
              "    <tr>\n",
              "      <th>3</th>\n",
              "      <td>ba78997921bbcdc1373bb41e913ab953</td>\n",
              "      <td>1</td>\n",
              "      <td>credit_card</td>\n",
              "      <td>8</td>\n",
              "      <td>107.78</td>\n",
              "    </tr>\n",
              "    <tr>\n",
              "      <th>4</th>\n",
              "      <td>42fdf880ba16b47b59251dd489d4441a</td>\n",
              "      <td>1</td>\n",
              "      <td>credit_card</td>\n",
              "      <td>2</td>\n",
              "      <td>128.45</td>\n",
              "    </tr>\n",
              "  </tbody>\n",
              "</table>\n",
              "</div>\n",
              "      <button class=\"colab-df-convert\" onclick=\"convertToInteractive('df-fec069eb-73a2-457e-9944-6b4a3cb1addd')\"\n",
              "              title=\"Convert this dataframe to an interactive table.\"\n",
              "              style=\"display:none;\">\n",
              "        \n",
              "  <svg xmlns=\"http://www.w3.org/2000/svg\" height=\"24px\"viewBox=\"0 0 24 24\"\n",
              "       width=\"24px\">\n",
              "    <path d=\"M0 0h24v24H0V0z\" fill=\"none\"/>\n",
              "    <path d=\"M18.56 5.44l.94 2.06.94-2.06 2.06-.94-2.06-.94-.94-2.06-.94 2.06-2.06.94zm-11 1L8.5 8.5l.94-2.06 2.06-.94-2.06-.94L8.5 2.5l-.94 2.06-2.06.94zm10 10l.94 2.06.94-2.06 2.06-.94-2.06-.94-.94-2.06-.94 2.06-2.06.94z\"/><path d=\"M17.41 7.96l-1.37-1.37c-.4-.4-.92-.59-1.43-.59-.52 0-1.04.2-1.43.59L10.3 9.45l-7.72 7.72c-.78.78-.78 2.05 0 2.83L4 21.41c.39.39.9.59 1.41.59.51 0 1.02-.2 1.41-.59l7.78-7.78 2.81-2.81c.8-.78.8-2.07 0-2.86zM5.41 20L4 18.59l7.72-7.72 1.47 1.35L5.41 20z\"/>\n",
              "  </svg>\n",
              "      </button>\n",
              "      \n",
              "  <style>\n",
              "    .colab-df-container {\n",
              "      display:flex;\n",
              "      flex-wrap:wrap;\n",
              "      gap: 12px;\n",
              "    }\n",
              "\n",
              "    .colab-df-convert {\n",
              "      background-color: #E8F0FE;\n",
              "      border: none;\n",
              "      border-radius: 50%;\n",
              "      cursor: pointer;\n",
              "      display: none;\n",
              "      fill: #1967D2;\n",
              "      height: 32px;\n",
              "      padding: 0 0 0 0;\n",
              "      width: 32px;\n",
              "    }\n",
              "\n",
              "    .colab-df-convert:hover {\n",
              "      background-color: #E2EBFA;\n",
              "      box-shadow: 0px 1px 2px rgba(60, 64, 67, 0.3), 0px 1px 3px 1px rgba(60, 64, 67, 0.15);\n",
              "      fill: #174EA6;\n",
              "    }\n",
              "\n",
              "    [theme=dark] .colab-df-convert {\n",
              "      background-color: #3B4455;\n",
              "      fill: #D2E3FC;\n",
              "    }\n",
              "\n",
              "    [theme=dark] .colab-df-convert:hover {\n",
              "      background-color: #434B5C;\n",
              "      box-shadow: 0px 1px 3px 1px rgba(0, 0, 0, 0.15);\n",
              "      filter: drop-shadow(0px 1px 2px rgba(0, 0, 0, 0.3));\n",
              "      fill: #FFFFFF;\n",
              "    }\n",
              "  </style>\n",
              "\n",
              "      <script>\n",
              "        const buttonEl =\n",
              "          document.querySelector('#df-fec069eb-73a2-457e-9944-6b4a3cb1addd button.colab-df-convert');\n",
              "        buttonEl.style.display =\n",
              "          google.colab.kernel.accessAllowed ? 'block' : 'none';\n",
              "\n",
              "        async function convertToInteractive(key) {\n",
              "          const element = document.querySelector('#df-fec069eb-73a2-457e-9944-6b4a3cb1addd');\n",
              "          const dataTable =\n",
              "            await google.colab.kernel.invokeFunction('convertToInteractive',\n",
              "                                                     [key], {});\n",
              "          if (!dataTable) return;\n",
              "\n",
              "          const docLinkHtml = 'Like what you see? Visit the ' +\n",
              "            '<a target=\"_blank\" href=https://colab.research.google.com/notebooks/data_table.ipynb>data table notebook</a>'\n",
              "            + ' to learn more about interactive tables.';\n",
              "          element.innerHTML = '';\n",
              "          dataTable['output_type'] = 'display_data';\n",
              "          await google.colab.output.renderOutput(dataTable, element);\n",
              "          const docLink = document.createElement('div');\n",
              "          docLink.innerHTML = docLinkHtml;\n",
              "          element.appendChild(docLink);\n",
              "        }\n",
              "      </script>\n",
              "    </div>\n",
              "  </div>\n",
              "  "
            ]
          },
          "metadata": {},
          "execution_count": 88
        }
      ]
    },
    {
      "cell_type": "code",
      "source": [
        "df = orders.toPandas()\n",
        "df.head()"
      ],
      "metadata": {
        "colab": {
          "base_uri": "https://localhost:8080/",
          "height": 270
        },
        "id": "qJNJSBTkE9RO",
        "outputId": "2d955ef3-6223-4617-d44a-3afcec188b58"
      },
      "execution_count": 90,
      "outputs": [
        {
          "output_type": "execute_result",
          "data": {
            "text/plain": [
              "                           order_id                       customer_id  \\\n",
              "0  e481f51cbdc54678b7cc49136f2d6af7  9ef432eb6251297304e76186b10a928d   \n",
              "1  53cdb2fc8bc7dce0b6741e2150273451  b0830fb4747a6c6d20dea0b8c802d7ef   \n",
              "2  47770eb9100c2d0c44946d9cf07ec65d  41ce2a54c0b03bf3443c3d931a367089   \n",
              "3  949d5b44dbf5de918fe9c16f97b45f8a  f88197465ea7920adcdbec7375364d82   \n",
              "4  ad21c59c0840e6cb83a9ceb5573f8159  8ab97904e6daea8866dbdbc4fb7aad2c   \n",
              "\n",
              "  order_status order_purchase_timestamp    order_approved_at  \\\n",
              "0    delivered      2017-10-02 10:56:33  2017-10-02 11:07:15   \n",
              "1    delivered      2018-07-24 20:41:37  2018-07-26 03:24:27   \n",
              "2    delivered      2018-08-08 08:38:49  2018-08-08 08:55:23   \n",
              "3    delivered      2017-11-18 19:28:06  2017-11-18 19:45:59   \n",
              "4    delivered      2018-02-13 21:18:39  2018-02-13 22:20:29   \n",
              "\n",
              "  order_delivered_carrier_date order_delivered_customer_date  \\\n",
              "0          2017-10-04 19:55:00           2017-10-10 21:25:13   \n",
              "1          2018-07-26 14:31:00           2018-08-07 15:27:45   \n",
              "2          2018-08-08 13:50:00           2018-08-17 18:06:29   \n",
              "3          2017-11-22 13:39:59           2017-12-02 00:28:42   \n",
              "4          2018-02-14 19:46:34           2018-02-16 18:17:02   \n",
              "\n",
              "  order_estimated_delivery_date  \n",
              "0           2017-10-18 00:00:00  \n",
              "1           2018-08-13 00:00:00  \n",
              "2           2018-09-04 00:00:00  \n",
              "3           2017-12-15 00:00:00  \n",
              "4           2018-02-26 00:00:00  "
            ],
            "text/html": [
              "\n",
              "  <div id=\"df-587e6761-bdac-49dd-aa38-e022443e93c6\">\n",
              "    <div class=\"colab-df-container\">\n",
              "      <div>\n",
              "<style scoped>\n",
              "    .dataframe tbody tr th:only-of-type {\n",
              "        vertical-align: middle;\n",
              "    }\n",
              "\n",
              "    .dataframe tbody tr th {\n",
              "        vertical-align: top;\n",
              "    }\n",
              "\n",
              "    .dataframe thead th {\n",
              "        text-align: right;\n",
              "    }\n",
              "</style>\n",
              "<table border=\"1\" class=\"dataframe\">\n",
              "  <thead>\n",
              "    <tr style=\"text-align: right;\">\n",
              "      <th></th>\n",
              "      <th>order_id</th>\n",
              "      <th>customer_id</th>\n",
              "      <th>order_status</th>\n",
              "      <th>order_purchase_timestamp</th>\n",
              "      <th>order_approved_at</th>\n",
              "      <th>order_delivered_carrier_date</th>\n",
              "      <th>order_delivered_customer_date</th>\n",
              "      <th>order_estimated_delivery_date</th>\n",
              "    </tr>\n",
              "  </thead>\n",
              "  <tbody>\n",
              "    <tr>\n",
              "      <th>0</th>\n",
              "      <td>e481f51cbdc54678b7cc49136f2d6af7</td>\n",
              "      <td>9ef432eb6251297304e76186b10a928d</td>\n",
              "      <td>delivered</td>\n",
              "      <td>2017-10-02 10:56:33</td>\n",
              "      <td>2017-10-02 11:07:15</td>\n",
              "      <td>2017-10-04 19:55:00</td>\n",
              "      <td>2017-10-10 21:25:13</td>\n",
              "      <td>2017-10-18 00:00:00</td>\n",
              "    </tr>\n",
              "    <tr>\n",
              "      <th>1</th>\n",
              "      <td>53cdb2fc8bc7dce0b6741e2150273451</td>\n",
              "      <td>b0830fb4747a6c6d20dea0b8c802d7ef</td>\n",
              "      <td>delivered</td>\n",
              "      <td>2018-07-24 20:41:37</td>\n",
              "      <td>2018-07-26 03:24:27</td>\n",
              "      <td>2018-07-26 14:31:00</td>\n",
              "      <td>2018-08-07 15:27:45</td>\n",
              "      <td>2018-08-13 00:00:00</td>\n",
              "    </tr>\n",
              "    <tr>\n",
              "      <th>2</th>\n",
              "      <td>47770eb9100c2d0c44946d9cf07ec65d</td>\n",
              "      <td>41ce2a54c0b03bf3443c3d931a367089</td>\n",
              "      <td>delivered</td>\n",
              "      <td>2018-08-08 08:38:49</td>\n",
              "      <td>2018-08-08 08:55:23</td>\n",
              "      <td>2018-08-08 13:50:00</td>\n",
              "      <td>2018-08-17 18:06:29</td>\n",
              "      <td>2018-09-04 00:00:00</td>\n",
              "    </tr>\n",
              "    <tr>\n",
              "      <th>3</th>\n",
              "      <td>949d5b44dbf5de918fe9c16f97b45f8a</td>\n",
              "      <td>f88197465ea7920adcdbec7375364d82</td>\n",
              "      <td>delivered</td>\n",
              "      <td>2017-11-18 19:28:06</td>\n",
              "      <td>2017-11-18 19:45:59</td>\n",
              "      <td>2017-11-22 13:39:59</td>\n",
              "      <td>2017-12-02 00:28:42</td>\n",
              "      <td>2017-12-15 00:00:00</td>\n",
              "    </tr>\n",
              "    <tr>\n",
              "      <th>4</th>\n",
              "      <td>ad21c59c0840e6cb83a9ceb5573f8159</td>\n",
              "      <td>8ab97904e6daea8866dbdbc4fb7aad2c</td>\n",
              "      <td>delivered</td>\n",
              "      <td>2018-02-13 21:18:39</td>\n",
              "      <td>2018-02-13 22:20:29</td>\n",
              "      <td>2018-02-14 19:46:34</td>\n",
              "      <td>2018-02-16 18:17:02</td>\n",
              "      <td>2018-02-26 00:00:00</td>\n",
              "    </tr>\n",
              "  </tbody>\n",
              "</table>\n",
              "</div>\n",
              "      <button class=\"colab-df-convert\" onclick=\"convertToInteractive('df-587e6761-bdac-49dd-aa38-e022443e93c6')\"\n",
              "              title=\"Convert this dataframe to an interactive table.\"\n",
              "              style=\"display:none;\">\n",
              "        \n",
              "  <svg xmlns=\"http://www.w3.org/2000/svg\" height=\"24px\"viewBox=\"0 0 24 24\"\n",
              "       width=\"24px\">\n",
              "    <path d=\"M0 0h24v24H0V0z\" fill=\"none\"/>\n",
              "    <path d=\"M18.56 5.44l.94 2.06.94-2.06 2.06-.94-2.06-.94-.94-2.06-.94 2.06-2.06.94zm-11 1L8.5 8.5l.94-2.06 2.06-.94-2.06-.94L8.5 2.5l-.94 2.06-2.06.94zm10 10l.94 2.06.94-2.06 2.06-.94-2.06-.94-.94-2.06-.94 2.06-2.06.94z\"/><path d=\"M17.41 7.96l-1.37-1.37c-.4-.4-.92-.59-1.43-.59-.52 0-1.04.2-1.43.59L10.3 9.45l-7.72 7.72c-.78.78-.78 2.05 0 2.83L4 21.41c.39.39.9.59 1.41.59.51 0 1.02-.2 1.41-.59l7.78-7.78 2.81-2.81c.8-.78.8-2.07 0-2.86zM5.41 20L4 18.59l7.72-7.72 1.47 1.35L5.41 20z\"/>\n",
              "  </svg>\n",
              "      </button>\n",
              "      \n",
              "  <style>\n",
              "    .colab-df-container {\n",
              "      display:flex;\n",
              "      flex-wrap:wrap;\n",
              "      gap: 12px;\n",
              "    }\n",
              "\n",
              "    .colab-df-convert {\n",
              "      background-color: #E8F0FE;\n",
              "      border: none;\n",
              "      border-radius: 50%;\n",
              "      cursor: pointer;\n",
              "      display: none;\n",
              "      fill: #1967D2;\n",
              "      height: 32px;\n",
              "      padding: 0 0 0 0;\n",
              "      width: 32px;\n",
              "    }\n",
              "\n",
              "    .colab-df-convert:hover {\n",
              "      background-color: #E2EBFA;\n",
              "      box-shadow: 0px 1px 2px rgba(60, 64, 67, 0.3), 0px 1px 3px 1px rgba(60, 64, 67, 0.15);\n",
              "      fill: #174EA6;\n",
              "    }\n",
              "\n",
              "    [theme=dark] .colab-df-convert {\n",
              "      background-color: #3B4455;\n",
              "      fill: #D2E3FC;\n",
              "    }\n",
              "\n",
              "    [theme=dark] .colab-df-convert:hover {\n",
              "      background-color: #434B5C;\n",
              "      box-shadow: 0px 1px 3px 1px rgba(0, 0, 0, 0.15);\n",
              "      filter: drop-shadow(0px 1px 2px rgba(0, 0, 0, 0.3));\n",
              "      fill: #FFFFFF;\n",
              "    }\n",
              "  </style>\n",
              "\n",
              "      <script>\n",
              "        const buttonEl =\n",
              "          document.querySelector('#df-587e6761-bdac-49dd-aa38-e022443e93c6 button.colab-df-convert');\n",
              "        buttonEl.style.display =\n",
              "          google.colab.kernel.accessAllowed ? 'block' : 'none';\n",
              "\n",
              "        async function convertToInteractive(key) {\n",
              "          const element = document.querySelector('#df-587e6761-bdac-49dd-aa38-e022443e93c6');\n",
              "          const dataTable =\n",
              "            await google.colab.kernel.invokeFunction('convertToInteractive',\n",
              "                                                     [key], {});\n",
              "          if (!dataTable) return;\n",
              "\n",
              "          const docLinkHtml = 'Like what you see? Visit the ' +\n",
              "            '<a target=\"_blank\" href=https://colab.research.google.com/notebooks/data_table.ipynb>data table notebook</a>'\n",
              "            + ' to learn more about interactive tables.';\n",
              "          element.innerHTML = '';\n",
              "          dataTable['output_type'] = 'display_data';\n",
              "          await google.colab.output.renderOutput(dataTable, element);\n",
              "          const docLink = document.createElement('div');\n",
              "          docLink.innerHTML = docLinkHtml;\n",
              "          element.appendChild(docLink);\n",
              "        }\n",
              "      </script>\n",
              "    </div>\n",
              "  </div>\n",
              "  "
            ]
          },
          "metadata": {},
          "execution_count": 90
        }
      ]
    },
    {
      "cell_type": "code",
      "source": [
        "df = orders_dataset.toPandas()\n",
        "df.head()"
      ],
      "metadata": {
        "colab": {
          "base_uri": "https://localhost:8080/",
          "height": 317
        },
        "id": "FehTw25aEHuv",
        "outputId": "300dd240-cc46-4e84-f9cd-eafc968125fc"
      },
      "execution_count": 89,
      "outputs": [
        {
          "output_type": "execute_result",
          "data": {
            "text/plain": [
              "                           order_id  order_item_id  \\\n",
              "0  014405982914c2cde2796ddcf0b8703d              1   \n",
              "1  014405982914c2cde2796ddcf0b8703d              2   \n",
              "2  019886de8f385a39b75bedbb726fd4ef              1   \n",
              "3  01a6ad782455876aa89081449d49c452              1   \n",
              "4  01d907b3e209269e120a365fc2b97524              1   \n",
              "\n",
              "                         product_id                         seller_id  \\\n",
              "0  6782d593f63105318f46bbf7633279bf  325f3178fb58e2a9778334621eecdbf9   \n",
              "1  e95ee6822b66ac6058e2e4aff656071a  a17f621c590ea0fab3d5d883e1630ec6   \n",
              "2  e9a69340883a438c3f91739d14d3a56d  1b4c3a6f53068f0b6944d2d005c9fc89   \n",
              "3  036734b5a58d5d4f46b0616ddc047ced  ea8482cd71df3c1969d7b9473ff13abc   \n",
              "4  b1434a8f79cb3528540d9b21e686e823  d1c281d3ae149232351cd8c8cc885f0d   \n",
              "\n",
              "   shipping_limit_date   price  freight_value  \\\n",
              "0  2017-08-01 17:50:17   27.90           3.81   \n",
              "1  2017-08-01 17:50:17   21.33          25.39   \n",
              "2  2018-02-15 13:08:12  159.90          28.50   \n",
              "3  2018-01-24 10:17:29   34.99          15.10   \n",
              "4  2017-08-16 10:25:08  151.99          17.77   \n",
              "\n",
              "                        customer_id order_status order_purchase_timestamp  \\\n",
              "0  2de342d6e5905a5a8bb3a991c855f3e2    delivered      2017-07-26 17:38:47   \n",
              "1  2de342d6e5905a5a8bb3a991c855f3e2    delivered      2017-07-26 17:38:47   \n",
              "2  8cf88d7ba142365ef2ca619ef06f9a0f    delivered      2018-02-10 12:52:51   \n",
              "3  71accffbcbdf8e02f67a469f65cdbf73    delivered      2018-01-18 10:07:52   \n",
              "4  d02cc92f5e33eb58d9ff4d5cce6ae901    delivered      2017-08-09 16:21:06   \n",
              "\n",
              "   ... payment_sequential payment_type payment_installments payment_value  \\\n",
              "0  ...                  1  credit_card                    7         78.43   \n",
              "1  ...                  1  credit_card                    7         78.43   \n",
              "2  ...                  1  credit_card                    2        188.40   \n",
              "3  ...                  1  credit_card                    5         50.09   \n",
              "4  ...                  1  credit_card                   10        169.76   \n",
              "\n",
              "                          review_id review_score  review_comment_title  \\\n",
              "0  ba5e6d78da2b2c3f5127ab99abe93629            5                  None   \n",
              "1  ba5e6d78da2b2c3f5127ab99abe93629            5                  None   \n",
              "2  3a6ebeb7f45583720372e838e99cec6a            5                  None   \n",
              "3  34fdf58aa22a5d9c4929b2b719a1b7f5            3                  None   \n",
              "4  d551da337adf573d0a25ebfd02e9fb5c            5                  None   \n",
              "\n",
              "                              review_comment_message review_creation_date  \\\n",
              "0                                               None  2017-08-01 00:00:00   \n",
              "1                                               None  2017-08-01 00:00:00   \n",
              "2  Produto foi entregue antes do prazo e em perfe...  2018-02-24 00:00:00   \n",
              "3                                               None  2018-02-02 00:00:00   \n",
              "4                                               None  2017-08-17 00:00:00   \n",
              "\n",
              "  review_answer_timestamp  \n",
              "0     2017-08-04 19:34:54  \n",
              "1     2017-08-04 19:34:54  \n",
              "2     2018-02-27 15:10:57  \n",
              "3     2018-02-05 09:59:55  \n",
              "4     2017-08-20 20:01:58  \n",
              "\n",
              "[5 rows x 24 columns]"
            ],
            "text/html": [
              "\n",
              "  <div id=\"df-cd2d1e08-7d4f-4847-b6d3-195ce653dbb6\">\n",
              "    <div class=\"colab-df-container\">\n",
              "      <div>\n",
              "<style scoped>\n",
              "    .dataframe tbody tr th:only-of-type {\n",
              "        vertical-align: middle;\n",
              "    }\n",
              "\n",
              "    .dataframe tbody tr th {\n",
              "        vertical-align: top;\n",
              "    }\n",
              "\n",
              "    .dataframe thead th {\n",
              "        text-align: right;\n",
              "    }\n",
              "</style>\n",
              "<table border=\"1\" class=\"dataframe\">\n",
              "  <thead>\n",
              "    <tr style=\"text-align: right;\">\n",
              "      <th></th>\n",
              "      <th>order_id</th>\n",
              "      <th>order_item_id</th>\n",
              "      <th>product_id</th>\n",
              "      <th>seller_id</th>\n",
              "      <th>shipping_limit_date</th>\n",
              "      <th>price</th>\n",
              "      <th>freight_value</th>\n",
              "      <th>customer_id</th>\n",
              "      <th>order_status</th>\n",
              "      <th>order_purchase_timestamp</th>\n",
              "      <th>...</th>\n",
              "      <th>payment_sequential</th>\n",
              "      <th>payment_type</th>\n",
              "      <th>payment_installments</th>\n",
              "      <th>payment_value</th>\n",
              "      <th>review_id</th>\n",
              "      <th>review_score</th>\n",
              "      <th>review_comment_title</th>\n",
              "      <th>review_comment_message</th>\n",
              "      <th>review_creation_date</th>\n",
              "      <th>review_answer_timestamp</th>\n",
              "    </tr>\n",
              "  </thead>\n",
              "  <tbody>\n",
              "    <tr>\n",
              "      <th>0</th>\n",
              "      <td>014405982914c2cde2796ddcf0b8703d</td>\n",
              "      <td>1</td>\n",
              "      <td>6782d593f63105318f46bbf7633279bf</td>\n",
              "      <td>325f3178fb58e2a9778334621eecdbf9</td>\n",
              "      <td>2017-08-01 17:50:17</td>\n",
              "      <td>27.90</td>\n",
              "      <td>3.81</td>\n",
              "      <td>2de342d6e5905a5a8bb3a991c855f3e2</td>\n",
              "      <td>delivered</td>\n",
              "      <td>2017-07-26 17:38:47</td>\n",
              "      <td>...</td>\n",
              "      <td>1</td>\n",
              "      <td>credit_card</td>\n",
              "      <td>7</td>\n",
              "      <td>78.43</td>\n",
              "      <td>ba5e6d78da2b2c3f5127ab99abe93629</td>\n",
              "      <td>5</td>\n",
              "      <td>None</td>\n",
              "      <td>None</td>\n",
              "      <td>2017-08-01 00:00:00</td>\n",
              "      <td>2017-08-04 19:34:54</td>\n",
              "    </tr>\n",
              "    <tr>\n",
              "      <th>1</th>\n",
              "      <td>014405982914c2cde2796ddcf0b8703d</td>\n",
              "      <td>2</td>\n",
              "      <td>e95ee6822b66ac6058e2e4aff656071a</td>\n",
              "      <td>a17f621c590ea0fab3d5d883e1630ec6</td>\n",
              "      <td>2017-08-01 17:50:17</td>\n",
              "      <td>21.33</td>\n",
              "      <td>25.39</td>\n",
              "      <td>2de342d6e5905a5a8bb3a991c855f3e2</td>\n",
              "      <td>delivered</td>\n",
              "      <td>2017-07-26 17:38:47</td>\n",
              "      <td>...</td>\n",
              "      <td>1</td>\n",
              "      <td>credit_card</td>\n",
              "      <td>7</td>\n",
              "      <td>78.43</td>\n",
              "      <td>ba5e6d78da2b2c3f5127ab99abe93629</td>\n",
              "      <td>5</td>\n",
              "      <td>None</td>\n",
              "      <td>None</td>\n",
              "      <td>2017-08-01 00:00:00</td>\n",
              "      <td>2017-08-04 19:34:54</td>\n",
              "    </tr>\n",
              "    <tr>\n",
              "      <th>2</th>\n",
              "      <td>019886de8f385a39b75bedbb726fd4ef</td>\n",
              "      <td>1</td>\n",
              "      <td>e9a69340883a438c3f91739d14d3a56d</td>\n",
              "      <td>1b4c3a6f53068f0b6944d2d005c9fc89</td>\n",
              "      <td>2018-02-15 13:08:12</td>\n",
              "      <td>159.90</td>\n",
              "      <td>28.50</td>\n",
              "      <td>8cf88d7ba142365ef2ca619ef06f9a0f</td>\n",
              "      <td>delivered</td>\n",
              "      <td>2018-02-10 12:52:51</td>\n",
              "      <td>...</td>\n",
              "      <td>1</td>\n",
              "      <td>credit_card</td>\n",
              "      <td>2</td>\n",
              "      <td>188.40</td>\n",
              "      <td>3a6ebeb7f45583720372e838e99cec6a</td>\n",
              "      <td>5</td>\n",
              "      <td>None</td>\n",
              "      <td>Produto foi entregue antes do prazo e em perfe...</td>\n",
              "      <td>2018-02-24 00:00:00</td>\n",
              "      <td>2018-02-27 15:10:57</td>\n",
              "    </tr>\n",
              "    <tr>\n",
              "      <th>3</th>\n",
              "      <td>01a6ad782455876aa89081449d49c452</td>\n",
              "      <td>1</td>\n",
              "      <td>036734b5a58d5d4f46b0616ddc047ced</td>\n",
              "      <td>ea8482cd71df3c1969d7b9473ff13abc</td>\n",
              "      <td>2018-01-24 10:17:29</td>\n",
              "      <td>34.99</td>\n",
              "      <td>15.10</td>\n",
              "      <td>71accffbcbdf8e02f67a469f65cdbf73</td>\n",
              "      <td>delivered</td>\n",
              "      <td>2018-01-18 10:07:52</td>\n",
              "      <td>...</td>\n",
              "      <td>1</td>\n",
              "      <td>credit_card</td>\n",
              "      <td>5</td>\n",
              "      <td>50.09</td>\n",
              "      <td>34fdf58aa22a5d9c4929b2b719a1b7f5</td>\n",
              "      <td>3</td>\n",
              "      <td>None</td>\n",
              "      <td>None</td>\n",
              "      <td>2018-02-02 00:00:00</td>\n",
              "      <td>2018-02-05 09:59:55</td>\n",
              "    </tr>\n",
              "    <tr>\n",
              "      <th>4</th>\n",
              "      <td>01d907b3e209269e120a365fc2b97524</td>\n",
              "      <td>1</td>\n",
              "      <td>b1434a8f79cb3528540d9b21e686e823</td>\n",
              "      <td>d1c281d3ae149232351cd8c8cc885f0d</td>\n",
              "      <td>2017-08-16 10:25:08</td>\n",
              "      <td>151.99</td>\n",
              "      <td>17.77</td>\n",
              "      <td>d02cc92f5e33eb58d9ff4d5cce6ae901</td>\n",
              "      <td>delivered</td>\n",
              "      <td>2017-08-09 16:21:06</td>\n",
              "      <td>...</td>\n",
              "      <td>1</td>\n",
              "      <td>credit_card</td>\n",
              "      <td>10</td>\n",
              "      <td>169.76</td>\n",
              "      <td>d551da337adf573d0a25ebfd02e9fb5c</td>\n",
              "      <td>5</td>\n",
              "      <td>None</td>\n",
              "      <td>None</td>\n",
              "      <td>2017-08-17 00:00:00</td>\n",
              "      <td>2017-08-20 20:01:58</td>\n",
              "    </tr>\n",
              "  </tbody>\n",
              "</table>\n",
              "<p>5 rows × 24 columns</p>\n",
              "</div>\n",
              "      <button class=\"colab-df-convert\" onclick=\"convertToInteractive('df-cd2d1e08-7d4f-4847-b6d3-195ce653dbb6')\"\n",
              "              title=\"Convert this dataframe to an interactive table.\"\n",
              "              style=\"display:none;\">\n",
              "        \n",
              "  <svg xmlns=\"http://www.w3.org/2000/svg\" height=\"24px\"viewBox=\"0 0 24 24\"\n",
              "       width=\"24px\">\n",
              "    <path d=\"M0 0h24v24H0V0z\" fill=\"none\"/>\n",
              "    <path d=\"M18.56 5.44l.94 2.06.94-2.06 2.06-.94-2.06-.94-.94-2.06-.94 2.06-2.06.94zm-11 1L8.5 8.5l.94-2.06 2.06-.94-2.06-.94L8.5 2.5l-.94 2.06-2.06.94zm10 10l.94 2.06.94-2.06 2.06-.94-2.06-.94-.94-2.06-.94 2.06-2.06.94z\"/><path d=\"M17.41 7.96l-1.37-1.37c-.4-.4-.92-.59-1.43-.59-.52 0-1.04.2-1.43.59L10.3 9.45l-7.72 7.72c-.78.78-.78 2.05 0 2.83L4 21.41c.39.39.9.59 1.41.59.51 0 1.02-.2 1.41-.59l7.78-7.78 2.81-2.81c.8-.78.8-2.07 0-2.86zM5.41 20L4 18.59l7.72-7.72 1.47 1.35L5.41 20z\"/>\n",
              "  </svg>\n",
              "      </button>\n",
              "      \n",
              "  <style>\n",
              "    .colab-df-container {\n",
              "      display:flex;\n",
              "      flex-wrap:wrap;\n",
              "      gap: 12px;\n",
              "    }\n",
              "\n",
              "    .colab-df-convert {\n",
              "      background-color: #E8F0FE;\n",
              "      border: none;\n",
              "      border-radius: 50%;\n",
              "      cursor: pointer;\n",
              "      display: none;\n",
              "      fill: #1967D2;\n",
              "      height: 32px;\n",
              "      padding: 0 0 0 0;\n",
              "      width: 32px;\n",
              "    }\n",
              "\n",
              "    .colab-df-convert:hover {\n",
              "      background-color: #E2EBFA;\n",
              "      box-shadow: 0px 1px 2px rgba(60, 64, 67, 0.3), 0px 1px 3px 1px rgba(60, 64, 67, 0.15);\n",
              "      fill: #174EA6;\n",
              "    }\n",
              "\n",
              "    [theme=dark] .colab-df-convert {\n",
              "      background-color: #3B4455;\n",
              "      fill: #D2E3FC;\n",
              "    }\n",
              "\n",
              "    [theme=dark] .colab-df-convert:hover {\n",
              "      background-color: #434B5C;\n",
              "      box-shadow: 0px 1px 3px 1px rgba(0, 0, 0, 0.15);\n",
              "      filter: drop-shadow(0px 1px 2px rgba(0, 0, 0, 0.3));\n",
              "      fill: #FFFFFF;\n",
              "    }\n",
              "  </style>\n",
              "\n",
              "      <script>\n",
              "        const buttonEl =\n",
              "          document.querySelector('#df-cd2d1e08-7d4f-4847-b6d3-195ce653dbb6 button.colab-df-convert');\n",
              "        buttonEl.style.display =\n",
              "          google.colab.kernel.accessAllowed ? 'block' : 'none';\n",
              "\n",
              "        async function convertToInteractive(key) {\n",
              "          const element = document.querySelector('#df-cd2d1e08-7d4f-4847-b6d3-195ce653dbb6');\n",
              "          const dataTable =\n",
              "            await google.colab.kernel.invokeFunction('convertToInteractive',\n",
              "                                                     [key], {});\n",
              "          if (!dataTable) return;\n",
              "\n",
              "          const docLinkHtml = 'Like what you see? Visit the ' +\n",
              "            '<a target=\"_blank\" href=https://colab.research.google.com/notebooks/data_table.ipynb>data table notebook</a>'\n",
              "            + ' to learn more about interactive tables.';\n",
              "          element.innerHTML = '';\n",
              "          dataTable['output_type'] = 'display_data';\n",
              "          await google.colab.output.renderOutput(dataTable, element);\n",
              "          const docLink = document.createElement('div');\n",
              "          docLink.innerHTML = docLinkHtml;\n",
              "          element.appendChild(docLink);\n",
              "        }\n",
              "      </script>\n",
              "    </div>\n",
              "  </div>\n",
              "  "
            ]
          },
          "metadata": {},
          "execution_count": 89
        }
      ]
    },
    {
      "cell_type": "code",
      "source": [
        "orders_dataset.dtypes"
      ],
      "metadata": {
        "colab": {
          "base_uri": "https://localhost:8080/"
        },
        "id": "rVWRha-eG_gC",
        "outputId": "10b061b4-8dc7-4bc6-df98-a8726a4e3578"
      },
      "execution_count": 93,
      "outputs": [
        {
          "output_type": "execute_result",
          "data": {
            "text/plain": [
              "[('order_id', 'string'),\n",
              " ('order_item_id', 'int'),\n",
              " ('product_id', 'string'),\n",
              " ('seller_id', 'string'),\n",
              " ('shipping_limit_date', 'string'),\n",
              " ('price', 'double'),\n",
              " ('freight_value', 'double'),\n",
              " ('customer_id', 'string'),\n",
              " ('order_status', 'string'),\n",
              " ('order_purchase_timestamp', 'string'),\n",
              " ('order_approved_at', 'string'),\n",
              " ('order_delivered_carrier_date', 'string'),\n",
              " ('order_delivered_customer_date', 'string'),\n",
              " ('order_estimated_delivery_date', 'string'),\n",
              " ('payment_sequential', 'int'),\n",
              " ('payment_type', 'string'),\n",
              " ('payment_installments', 'int'),\n",
              " ('payment_value', 'double'),\n",
              " ('review_id', 'string'),\n",
              " ('review_score', 'string'),\n",
              " ('review_comment_title', 'string'),\n",
              " ('review_comment_message', 'string'),\n",
              " ('review_creation_date', 'string'),\n",
              " ('review_answer_timestamp', 'string')]"
            ]
          },
          "metadata": {},
          "execution_count": 93
        }
      ]
    },
    {
      "cell_type": "markdown",
      "source": [
        "## 5 - Qual o ticket médio dos pedidos?"
      ],
      "metadata": {
        "id": "KLsDef10bKk9"
      }
    },
    {
      "cell_type": "code",
      "source": [
        "## Code"
      ],
      "metadata": {
        "id": "CPDcuRlobOU7"
      },
      "execution_count": null,
      "outputs": []
    },
    {
      "cell_type": "markdown",
      "source": [
        "## 6 - Qual o dia da semana com maior número de pedidos?"
      ],
      "metadata": {
        "id": "RxEO-vmqbQhL"
      }
    },
    {
      "cell_type": "code",
      "source": [
        "## Code"
      ],
      "metadata": {
        "id": "b3SAk88vbUv9"
      },
      "execution_count": null,
      "outputs": []
    },
    {
      "cell_type": "markdown",
      "source": [
        "## 7 - Quais são os Top 10 produtos mais bem avaliados? O produto deve ter pelo menos 5 avaliações."
      ],
      "metadata": {
        "id": "0We-F9hk8HIn"
      }
    },
    {
      "cell_type": "code",
      "source": [
        "## Code"
      ],
      "metadata": {
        "id": "kcwAj_0W8TLf"
      },
      "execution_count": null,
      "outputs": []
    },
    {
      "cell_type": "markdown",
      "source": [
        "## 8 - Qual o faturamento mensal por método de pagamento?"
      ],
      "metadata": {
        "id": "pEsncPjG8VqE"
      }
    },
    {
      "cell_type": "code",
      "source": [
        "## Code"
      ],
      "metadata": {
        "id": "2UH9emgf8cdH"
      },
      "execution_count": null,
      "outputs": []
    },
    {
      "cell_type": "markdown",
      "source": [
        "## 9 - Qual a categoria mais vendida na empresa?"
      ],
      "metadata": {
        "id": "xb-DRVvu8tph"
      }
    },
    {
      "cell_type": "code",
      "source": [
        "## Code"
      ],
      "metadata": {
        "id": "JxPofxTo8xtH"
      },
      "execution_count": null,
      "outputs": []
    },
    {
      "cell_type": "markdown",
      "source": [
        "## 10 - Qual vendedor teve a melhor performance mês a mês?"
      ],
      "metadata": {
        "id": "wBJDXwBR8zR6"
      }
    },
    {
      "cell_type": "code",
      "source": [
        "## Code"
      ],
      "metadata": {
        "id": "aaU7zoox85M7"
      },
      "execution_count": null,
      "outputs": []
    }
  ]
}